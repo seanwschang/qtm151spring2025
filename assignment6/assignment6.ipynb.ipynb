{
 "cells": [
  {
   "attachments": {},
   "cell_type": "markdown",
   "metadata": {},
   "source": [
    "# Assignment 6"
   ]
  },
  {
   "attachments": {},
   "cell_type": "markdown",
   "metadata": {},
   "source": [
    "## Try to submit as an HTML file"
   ]
  },
  {
   "attachments": {},
   "cell_type": "markdown",
   "metadata": {},
   "source": [
    "<font size = \"5\">\n",
    "Print your Emory code below"
   ]
  },
  {
   "cell_type": "code",
   "execution_count": 1,
   "metadata": {},
   "outputs": [
    {
     "name": "stdout",
     "output_type": "stream",
     "text": [
      "2481769\n"
     ]
    }
   ],
   "source": [
    "print(\"2481769\")"
   ]
  },
  {
   "attachments": {},
   "cell_type": "markdown",
   "metadata": {},
   "source": [
    "<font size = \"5\">\n",
    "\n",
    "Import the \"pandas\" and \"matplotlib.pyplot\" libraries"
   ]
  },
  {
   "cell_type": "code",
   "execution_count": 2,
   "metadata": {},
   "outputs": [],
   "source": [
    "# Write your answer here:\n",
    "\n",
    "import pandas as pd\n",
    "import matplotlib.pyplot as plt"
   ]
  },
  {
   "attachments": {},
   "cell_type": "markdown",
   "metadata": {},
   "source": [
    "<font size = \"5\">\n",
    "\n",
    "(a) Functions\n",
    "\n",
    "<font size = \"3\">\n",
    "\n",
    "- Read the dataset labelled features.csv.\n",
    "- Create a ``` lambda ``` function that checks if displacement $>$ 200\n",
    "- Create a new list that shows true if displacement $>$ 200 and false <br>\n",
    "if displacement $\\leq$ 200.\n",
    "- Count how many cars have displacement $> 200$.\n",
    "\n",
    "To get full credit use either the apply or the map function <br>\n",
    "(see Lectures 7 and 8)"
   ]
  },
  {
   "cell_type": "code",
   "execution_count": 6,
   "metadata": {},
   "outputs": [
    {
     "name": "stdout",
     "output_type": "stream",
     "text": [
      "Number of cars with displacement > 200: 158\n"
     ]
    }
   ],
   "source": [
    "# Write your answer here:\n",
    "\n",
    "features = pd.read_csv(\"/Users/seanchang/Documents/GitHub/qtm151spring2025/assignment6/data/features.csv\")\n",
    "\n",
    "displacement_check = features['displacement'].apply(lambda x: x > 200)\n",
    "displacement_list = displacement_check.tolist()\n",
    "count_displacement_gt_200 = displacement_check.sum()\n",
    "\n",
    "print(\"Number of cars with displacement > 200:\", count_displacement_gt_200)"
   ]
  },
  {
   "attachments": {},
   "cell_type": "markdown",
   "metadata": {},
   "source": [
    "<font size = \"5\">\n",
    "\n",
    "(b) Subsetting Data\n",
    "\n",
    "<font size = \"3\" >\n",
    "\n",
    "- Read the dataset labelled features.csv.\n",
    "- Define a global variable called ```threshold``` that takes the <br>\n",
    "value 2588\n",
    "- Subset the data to get one dataset with weight $>$ threshold and <br>\n",
    "another with weight $\\le$ 2588. Use the ```.query()``` function.\n",
    "- Compute the mean acceleration for each of these datasets.<br>\n",
    "\n",
    "Note: Review how to define a gloabl variable inside ```.query()```\n",
    " "
   ]
  },
  {
   "cell_type": "code",
   "execution_count": 7,
   "metadata": {},
   "outputs": [
    {
     "name": "stdout",
     "output_type": "stream",
     "text": [
      "Mean acceleration for cars with weight > 2588: 14.972457627118644\n",
      "Mean acceleration for cars with weight <= 2588: 16.435802469135798\n"
     ]
    }
   ],
   "source": [
    "# Write your answer here:\n",
    "threshold = 2588\n",
    "\n",
    "subset_gt_threshold = features.query('weight > @threshold')\n",
    "subset_le_threshold = features.query('weight <= @threshold')\n",
    "\n",
    "mean_acceleration_gt_threshold = subset_gt_threshold['acceleration'].mean()\n",
    "mean_acceleration_le_threshold = subset_le_threshold['acceleration'].mean()\n",
    "\n",
    "print(\"Mean acceleration for cars with weight > 2588:\", mean_acceleration_gt_threshold)\n",
    "print(\"Mean acceleration for cars with weight <= 2588:\", mean_acceleration_le_threshold)\n"
   ]
  },
  {
   "cell_type": "markdown",
   "metadata": {},
   "source": [
    "<font size = \"5\">\n",
    "\n",
    "(c) Use sorting + \".iloc[]\"\n",
    "\n",
    "<font size = \"3\">\n",
    "\n",
    "- Read the \"fifa23_players_basic.csv\" dataset\n",
    "- Use \".sort_values()\" to order the \"Age\" column <br>\n",
    "from youngest to oldest\n",
    "- Get a subset with the 5 youngest players"
   ]
  },
  {
   "cell_type": "code",
   "execution_count": 9,
   "metadata": {},
   "outputs": [
    {
     "name": "stdout",
     "output_type": "stream",
     "text": [
      "            Known As        Full Name  Overall  Potential  Value(in Euro)  \\\n",
      "17956     A. Dithmer  Andreas Dithmer       53         76          275000   \n",
      "18014      J. Ardila      José Ardila       53         73          250000   \n",
      "16084       S. Ngoma      Serge Ngoma       58         82          650000   \n",
      "11481      O. Vargas      Obed Vargas       64         81         1500000   \n",
      "17591  A. Madaliński  Alan Madaliński       54         68          210000   \n",
      "\n",
      "      Positions Played Best Position    Nationality  \\\n",
      "17956               GK            GK        Denmark   \n",
      "18014               CM           CAM      Venezuela   \n",
      "16084               RW            RM  United States   \n",
      "11481        CM,CDM,RM           CAM  United States   \n",
      "17591               GK            GK         Poland   \n",
      "\n",
      "                                             Image Link  Age  ...  \\\n",
      "17956  https://cdn.sofifa.net/players/269/573/23_60.png   16  ...   \n",
      "18014  https://cdn.sofifa.net/players/268/892/23_60.png   16  ...   \n",
      "16084  https://cdn.sofifa.net/players/267/796/23_60.png   16  ...   \n",
      "11481  https://cdn.sofifa.net/players/263/701/23_60.png   16  ...   \n",
      "17591  https://cdn.sofifa.net/players/270/590/23_60.png   16  ...   \n",
      "\n",
      "       Preferred Foot  Weak Foot Rating  Skill Moves  \\\n",
      "17956           Right                 2            1   \n",
      "18014           Right                 3            2   \n",
      "16084           Right                 3            2   \n",
      "11481           Right                 3            3   \n",
      "17591           Right                 3            1   \n",
      "\n",
      "       International Reputation National Team Name  \\\n",
      "17956                         1                  -   \n",
      "18014                         1                  -   \n",
      "16084                         1                  -   \n",
      "11481                         1                  -   \n",
      "17591                         1                  -   \n",
      "\n",
      "                  National Team Image Link  National Team Position  \\\n",
      "17956  https://cdn.sofifa.net/flags/dk.png                       -   \n",
      "18014  https://cdn.sofifa.net/flags/ve.png                       -   \n",
      "16084  https://cdn.sofifa.net/flags/us.png                       -   \n",
      "11481  https://cdn.sofifa.net/flags/us.png                       -   \n",
      "17591  https://cdn.sofifa.net/flags/pl.png                       -   \n",
      "\n",
      "      National Team Jersey Number Attacking Work Rate Defensive Work Rate  \n",
      "17956                           -              Medium              Medium  \n",
      "18014                           -              Medium              Medium  \n",
      "16084                           -                High              Medium  \n",
      "11481                           -                High              Medium  \n",
      "17591                           -              Medium              Medium  \n",
      "\n",
      "[5 rows x 32 columns]\n"
     ]
    }
   ],
   "source": [
    "# Write your answer here:\n",
    "\n",
    "fifa23 = pd.read_csv(\"/Users/seanchang/Documents/GitHub/qtm151spring2025/assignment6/data/fifa23_players_basic.csv\")\n",
    "\n",
    "fifa23_sorted_by_age = fifa23.sort_values(by='Age')\n",
    "\n",
    "youngest_players = fifa23_sorted_by_age.iloc[:5]\n",
    "\n",
    "print(youngest_players)"
   ]
  },
  {
   "cell_type": "markdown",
   "metadata": {},
   "source": [
    "<font size = \"5\">\n",
    "\n",
    "(d) Use queries + global variables\n",
    "\n",
    "<font size = \"3\">\n",
    "\n",
    "- Read the \"fifa23_players_basic.csv\" dataset\n",
    "- Compute the mean of the column \"Wage(in Euro)\" <br>\n",
    "and store it as a variable\n",
    "- Subset the players whose value is above the mean value <br>\n",
    "  using \".query()\"\n",
    "\n",
    "\n",
    "HINT: Remember that there is a special syntax for <br>\n",
    "when the column names have spaces (see Lecture 10) <br>\n",
    "Reference the column as ``` `Wage(in Euro)`    ``` inside .query()"
   ]
  },
  {
   "cell_type": "code",
   "execution_count": 10,
   "metadata": {},
   "outputs": [
    {
     "name": "stdout",
     "output_type": "stream",
     "text": [
      "                 Known As                 Full Name  Overall  Potential  \\\n",
      "0                L. Messi              Lionel Messi       91         91   \n",
      "1              K. Benzema             Karim Benzema       91         91   \n",
      "2          R. Lewandowski        Robert Lewandowski       91         91   \n",
      "3            K. De Bruyne           Kevin De Bruyne       91         91   \n",
      "4               K. Mbappé             Kylian Mbappé       91         95   \n",
      "...                   ...                       ...      ...        ...   \n",
      "14279            A. Lewis                Adam Lewis       61         65   \n",
      "15117           B. Knight                Ben Knight       60         74   \n",
      "15441  T. Suengchitthawon  Thanawat Suengchitthawon       60         70   \n",
      "15957          P. Glatzel              Paul Glatzel       59         65   \n",
      "16157      C. Chukwuemeka         Caleb Chukwuemeka       58         71   \n",
      "\n",
      "       Value(in Euro) Positions Played Best Position Nationality  \\\n",
      "0            54000000               RW           CAM   Argentina   \n",
      "1            64000000            CF,ST            CF      France   \n",
      "2            84000000               ST            ST      Poland   \n",
      "3           107500000           CM,CAM            CM     Belgium   \n",
      "4           190500000            ST,LW            ST      France   \n",
      "...               ...              ...           ...         ...   \n",
      "14279          450000           LWB,LB           LWB     England   \n",
      "15117          600000               RW           CAM     England   \n",
      "15441          550000              CAM            RM    Thailand   \n",
      "15957          375000               ST            ST     Germany   \n",
      "16157          500000         RW,RM,LW            ST     England   \n",
      "\n",
      "                                             Image Link  Age  ...  \\\n",
      "0      https://cdn.sofifa.net/players/158/023/23_60.png   35  ...   \n",
      "1      https://cdn.sofifa.net/players/165/153/23_60.png   34  ...   \n",
      "2      https://cdn.sofifa.net/players/188/545/23_60.png   33  ...   \n",
      "3      https://cdn.sofifa.net/players/192/985/23_60.png   31  ...   \n",
      "4      https://cdn.sofifa.net/players/231/747/23_60.png   23  ...   \n",
      "...                                                 ...  ...  ...   \n",
      "14279  https://cdn.sofifa.net/players/243/056/23_60.png   22  ...   \n",
      "15117  https://cdn.sofifa.net/players/263/955/23_60.png   20  ...   \n",
      "15441  https://cdn.sofifa.net/players/259/324/23_60.png   22  ...   \n",
      "15957  https://cdn.sofifa.net/players/247/507/23_60.png   21  ...   \n",
      "16157  https://cdn.sofifa.net/players/258/748/23_60.png   20  ...   \n",
      "\n",
      "       Preferred Foot  Weak Foot Rating  Skill Moves  \\\n",
      "0                Left                 4            4   \n",
      "1               Right                 4            4   \n",
      "2               Right                 4            4   \n",
      "3               Right                 5            4   \n",
      "4               Right                 4            5   \n",
      "...               ...               ...          ...   \n",
      "14279            Left                 2            2   \n",
      "15117            Left                 3            3   \n",
      "15441           Right                 3            2   \n",
      "15957            Left                 3            3   \n",
      "16157           Right                 4            3   \n",
      "\n",
      "       International Reputation National Team Name  \\\n",
      "0                             5          Argentina   \n",
      "1                             4             France   \n",
      "2                             5             Poland   \n",
      "3                             4            Belgium   \n",
      "4                             4             France   \n",
      "...                         ...                ...   \n",
      "14279                         1                  -   \n",
      "15117                         1                  -   \n",
      "15441                         1                  -   \n",
      "15957                         1                  -   \n",
      "16157                         1                  -   \n",
      "\n",
      "                      National Team Image Link  National Team Position  \\\n",
      "0          https://cdn.sofifa.net/flags/ar.png                      RW   \n",
      "1          https://cdn.sofifa.net/flags/fr.png                      ST   \n",
      "2          https://cdn.sofifa.net/flags/pl.png                      ST   \n",
      "3          https://cdn.sofifa.net/flags/be.png                      RF   \n",
      "4          https://cdn.sofifa.net/flags/fr.png                      ST   \n",
      "...                                        ...                     ...   \n",
      "14279  https://cdn.sofifa.net/flags/gb-eng.png                       -   \n",
      "15117  https://cdn.sofifa.net/flags/gb-eng.png                       -   \n",
      "15441                                        -                       -   \n",
      "15957      https://cdn.sofifa.net/flags/de.png                       -   \n",
      "16157  https://cdn.sofifa.net/flags/gb-eng.png                       -   \n",
      "\n",
      "      National Team Jersey Number Attacking Work Rate Defensive Work Rate  \n",
      "0                              10                 Low                 Low  \n",
      "1                              19              Medium              Medium  \n",
      "2                               9                High              Medium  \n",
      "3                               7                High                High  \n",
      "4                              10                High                 Low  \n",
      "...                           ...                 ...                 ...  \n",
      "14279                           -              Medium              Medium  \n",
      "15117                           -              Medium              Medium  \n",
      "15441                           -              Medium              Medium  \n",
      "15957                           -              Medium                 Low  \n",
      "16157                           -              Medium                 Low  \n",
      "\n",
      "[4300 rows x 32 columns]\n"
     ]
    }
   ],
   "source": [
    "# Write your answer here:\n",
    "\n",
    "mean_wage = fifa23['Wage(in Euro)'].mean()\n",
    "\n",
    "players_above_mean_wage = fifa23.query('`Wage(in Euro)` > @mean_wage')\n",
    "\n",
    "print(players_above_mean_wage)\n"
   ]
  },
  {
   "cell_type": "markdown",
   "metadata": {},
   "source": [
    "<font size = \"5\">\n",
    "\n",
    "(e) Plot by Category\n",
    "\n",
    "<font size = \"3\">\n",
    "\n",
    "Read the \"data/wdi_urban.csv\" dataset.\n",
    "\n",
    "  This contains data from 1980 and 2020.\n",
    "\n",
    "- **Create a list with the unique values of \"year\"**\n",
    "\n",
    "- **Create a plot with a ...**\n",
    "    - Histogram of \"prop_urbanpopulation\" for each year\n",
    "    - Set the histogram option `alpha = 0.5` for transparency\n",
    "    - All the histograms should be overlapping\n",
    "    - Create a legend with the list of years\n",
    "    - Label the axes and the title\n"
   ]
  },
  {
   "cell_type": "code",
   "execution_count": 15,
   "metadata": {},
   "outputs": [
    {
     "data": {
      "image/png": "[encoded data removed]",
      "text/plain": [
       "<Figure size 1000x600 with 1 Axes>"
      ]
     },
     "metadata": {},
     "output_type": "display_data"
    }
   ],
   "source": [
    "# Write your answer here:\n",
    "\n",
    "wdi_urban = pd.read_csv(\"/Users/seanchang/Documents/GitHub/qtm151spring2025/assignment6/data/wdi_urban.csv\")\n",
    "\n",
    "unique_years = wdi_urban['year'].unique()\n",
    "\n",
    "plt.figure(figsize=(10, 6))\n",
    "\n",
    "for year in unique_years:\n",
    "    subset = wdi_urban[wdi_urban['year'] == year]\n",
    "    plt.hist(subset['prop_urbanpopulation'], bins=20, alpha=0.5, label=str(year))\n",
    "plt.legend(title=\"Year\")\n",
    "plt.xlabel(\"Proportion of Urban Population\")\n",
    "plt.ylabel(\"Frequency\")\n",
    "plt.title(\"Histogram of Proportion of Urban Population by Year\")\n",
    "plt.show()\n"
   ]
  }
 ],
 "metadata": {
  "kernelspec": {
   "display_name": "base",
   "language": "python",
   "name": "python3"
  },
  "language_info": {
   "codemirror_mode": {
    "name": "ipython",
    "version": 3
   },
   "file_extension": ".py",
   "mimetype": "text/x-python",
   "name": "python",
   "nbconvert_exporter": "python",
   "pygments_lexer": "ipython3",
   "version": "3.12.7"
  },
  "orig_nbformat": 4,
  "vscode": {
   "interpreter": {
    "hash": "45fc1f684f6f416f40889115beff3ddf69879b64cf4bfee48cb72a61e9d15d1a"
   }
  }
 },
 "nbformat": 4,
 "nbformat_minor": 2
}
