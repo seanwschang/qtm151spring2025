{
 "cells": [
  {
   "cell_type": "markdown",
   "metadata": {},
   "source": [
    "# Assignment 7"
   ]
  },
  {
   "cell_type": "markdown",
   "metadata": {},
   "source": [
    "## Submit as an HTML file"
   ]
  },
  {
   "cell_type": "markdown",
   "metadata": {},
   "source": [
    "### Print your name below"
   ]
  },
  {
   "cell_type": "code",
   "execution_count": 1,
   "metadata": {},
   "outputs": [
    {
     "name": "stdout",
     "output_type": "stream",
     "text": [
      "Sean Chang\n"
     ]
    }
   ],
   "source": [
    "print(\"Sean Chang\")"
   ]
  },
  {
   "cell_type": "markdown",
   "metadata": {},
   "source": [
    "### Import the \"pandas\" \"numpy\" and \"statsmodels.formula.api\" libraries"
   ]
  },
  {
   "cell_type": "code",
   "execution_count": 2,
   "metadata": {},
   "outputs": [],
   "source": [
    "# Write your answer here:\n",
    "import pandas as pd\n",
    "import numpy as np\n",
    "import matplotlib.pyplot as plt\n",
    "import statsmodels.formula.api as smf\n"
   ]
  },
  {
   "cell_type": "markdown",
   "metadata": {},
   "source": [
    "#### In the code chunk below read the CSV file named `results.csv` in the `data` <br> folder and print the first 5 rows of the dataset. Browse the dataset."
   ]
  },
  {
   "cell_type": "code",
   "execution_count": 4,
   "metadata": {},
   "outputs": [
    {
     "data": {
      "application/vnd.microsoft.datawrangler.viewer.v0+json": {
       "columns": [
        {
         "name": "index",
         "rawType": "int64",
         "type": "integer"
        },
        {
         "name": "resultId",
         "rawType": "int64",
         "type": "integer"
        },
        {
         "name": "raceId",
         "rawType": "int64",
         "type": "integer"
        },
        {
         "name": "driverId",
         "rawType": "int64",
         "type": "integer"
        },
        {
         "name": "constructorId",
         "rawType": "int64",
         "type": "integer"
        },
        {
         "name": "number",
         "rawType": "object",
         "type": "string"
        },
        {
         "name": "grid",
         "rawType": "int64",
         "type": "integer"
        },
        {
         "name": "position",
         "rawType": "object",
         "type": "string"
        },
        {
         "name": "positionText",
         "rawType": "object",
         "type": "string"
        },
        {
         "name": "positionOrder",
         "rawType": "int64",
         "type": "integer"
        },
        {
         "name": "points",
         "rawType": "float64",
         "type": "float"
        },
        {
         "name": "laps",
         "rawType": "int64",
         "type": "integer"
        },
        {
         "name": "time",
         "rawType": "object",
         "type": "string"
        },
        {
         "name": "milliseconds",
         "rawType": "object",
         "type": "string"
        },
        {
         "name": "fastestLap",
         "rawType": "object",
         "type": "string"
        },
        {
         "name": "rank",
         "rawType": "object",
         "type": "string"
        },
        {
         "name": "fastestLapTime",
         "rawType": "object",
         "type": "string"
        },
        {
         "name": "fastestLapSpeed",
         "rawType": "object",
         "type": "string"
        },
        {
         "name": "statusId",
         "rawType": "int64",
         "type": "integer"
        }
       ],
       "conversionMethod": "pd.DataFrame",
       "ref": "aa1066b3-d706-4367-9564-352d938a43a0",
       "rows": [
        [
         "0",
         "1",
         "18",
         "1",
         "1",
         "22",
         "1",
         "1",
         "1",
         "1",
         "10.0",
         "58",
         "1:34:50.616",
         "5690616",
         "39",
         "2",
         "1:27.452",
         "218.300",
         "1"
        ],
        [
         "1",
         "2",
         "18",
         "2",
         "2",
         "3",
         "5",
         "2",
         "2",
         "2",
         "8.0",
         "58",
         "+5.478",
         "5696094",
         "41",
         "3",
         "1:27.739",
         "217.586",
         "1"
        ],
        [
         "2",
         "3",
         "18",
         "3",
         "3",
         "7",
         "7",
         "3",
         "3",
         "3",
         "6.0",
         "58",
         "+8.163",
         "5698779",
         "41",
         "5",
         "1:28.090",
         "216.719",
         "1"
        ],
        [
         "3",
         "4",
         "18",
         "4",
         "4",
         "5",
         "11",
         "4",
         "4",
         "4",
         "5.0",
         "58",
         "+17.181",
         "5707797",
         "58",
         "7",
         "1:28.603",
         "215.464",
         "1"
        ],
        [
         "4",
         "5",
         "18",
         "5",
         "1",
         "23",
         "3",
         "5",
         "5",
         "5",
         "4.0",
         "58",
         "+18.014",
         "5708630",
         "43",
         "1",
         "1:27.418",
         "218.385",
         "1"
        ]
       ],
       "shape": {
        "columns": 18,
        "rows": 5
       }
      },
      "text/html": [
       "<div>\n",
       "<style scoped>\n",
       "    .dataframe tbody tr th:only-of-type {\n",
       "        vertical-align: middle;\n",
       "    }\n",
       "\n",
       "    .dataframe tbody tr th {\n",
       "        vertical-align: top;\n",
       "    }\n",
       "\n",
       "    .dataframe thead th {\n",
       "        text-align: right;\n",
       "    }\n",
       "</style>\n",
       "<table border=\"1\" class=\"dataframe\">\n",
       "  <thead>\n",
       "    <tr style=\"text-align: right;\">\n",
       "      <th></th>\n",
       "      <th>resultId</th>\n",
       "      <th>raceId</th>\n",
       "      <th>driverId</th>\n",
       "      <th>constructorId</th>\n",
       "      <th>number</th>\n",
       "      <th>grid</th>\n",
       "      <th>position</th>\n",
       "      <th>positionText</th>\n",
       "      <th>positionOrder</th>\n",
       "      <th>points</th>\n",
       "      <th>laps</th>\n",
       "      <th>time</th>\n",
       "      <th>milliseconds</th>\n",
       "      <th>fastestLap</th>\n",
       "      <th>rank</th>\n",
       "      <th>fastestLapTime</th>\n",
       "      <th>fastestLapSpeed</th>\n",
       "      <th>statusId</th>\n",
       "    </tr>\n",
       "  </thead>\n",
       "  <tbody>\n",
       "    <tr>\n",
       "      <th>0</th>\n",
       "      <td>1</td>\n",
       "      <td>18</td>\n",
       "      <td>1</td>\n",
       "      <td>1</td>\n",
       "      <td>22</td>\n",
       "      <td>1</td>\n",
       "      <td>1</td>\n",
       "      <td>1</td>\n",
       "      <td>1</td>\n",
       "      <td>10.0</td>\n",
       "      <td>58</td>\n",
       "      <td>1:34:50.616</td>\n",
       "      <td>5690616</td>\n",
       "      <td>39</td>\n",
       "      <td>2</td>\n",
       "      <td>1:27.452</td>\n",
       "      <td>218.300</td>\n",
       "      <td>1</td>\n",
       "    </tr>\n",
       "    <tr>\n",
       "      <th>1</th>\n",
       "      <td>2</td>\n",
       "      <td>18</td>\n",
       "      <td>2</td>\n",
       "      <td>2</td>\n",
       "      <td>3</td>\n",
       "      <td>5</td>\n",
       "      <td>2</td>\n",
       "      <td>2</td>\n",
       "      <td>2</td>\n",
       "      <td>8.0</td>\n",
       "      <td>58</td>\n",
       "      <td>+5.478</td>\n",
       "      <td>5696094</td>\n",
       "      <td>41</td>\n",
       "      <td>3</td>\n",
       "      <td>1:27.739</td>\n",
       "      <td>217.586</td>\n",
       "      <td>1</td>\n",
       "    </tr>\n",
       "    <tr>\n",
       "      <th>2</th>\n",
       "      <td>3</td>\n",
       "      <td>18</td>\n",
       "      <td>3</td>\n",
       "      <td>3</td>\n",
       "      <td>7</td>\n",
       "      <td>7</td>\n",
       "      <td>3</td>\n",
       "      <td>3</td>\n",
       "      <td>3</td>\n",
       "      <td>6.0</td>\n",
       "      <td>58</td>\n",
       "      <td>+8.163</td>\n",
       "      <td>5698779</td>\n",
       "      <td>41</td>\n",
       "      <td>5</td>\n",
       "      <td>1:28.090</td>\n",
       "      <td>216.719</td>\n",
       "      <td>1</td>\n",
       "    </tr>\n",
       "    <tr>\n",
       "      <th>3</th>\n",
       "      <td>4</td>\n",
       "      <td>18</td>\n",
       "      <td>4</td>\n",
       "      <td>4</td>\n",
       "      <td>5</td>\n",
       "      <td>11</td>\n",
       "      <td>4</td>\n",
       "      <td>4</td>\n",
       "      <td>4</td>\n",
       "      <td>5.0</td>\n",
       "      <td>58</td>\n",
       "      <td>+17.181</td>\n",
       "      <td>5707797</td>\n",
       "      <td>58</td>\n",
       "      <td>7</td>\n",
       "      <td>1:28.603</td>\n",
       "      <td>215.464</td>\n",
       "      <td>1</td>\n",
       "    </tr>\n",
       "    <tr>\n",
       "      <th>4</th>\n",
       "      <td>5</td>\n",
       "      <td>18</td>\n",
       "      <td>5</td>\n",
       "      <td>1</td>\n",
       "      <td>23</td>\n",
       "      <td>3</td>\n",
       "      <td>5</td>\n",
       "      <td>5</td>\n",
       "      <td>5</td>\n",
       "      <td>4.0</td>\n",
       "      <td>58</td>\n",
       "      <td>+18.014</td>\n",
       "      <td>5708630</td>\n",
       "      <td>43</td>\n",
       "      <td>1</td>\n",
       "      <td>1:27.418</td>\n",
       "      <td>218.385</td>\n",
       "      <td>1</td>\n",
       "    </tr>\n",
       "  </tbody>\n",
       "</table>\n",
       "</div>"
      ],
      "text/plain": [
       "   resultId  raceId  driverId  ...  fastestLapTime fastestLapSpeed  statusId\n",
       "0         1      18         1  ...        1:27.452         218.300         1\n",
       "1         2      18         2  ...        1:27.739         217.586         1\n",
       "2         3      18         3  ...        1:28.090         216.719         1\n",
       "3         4      18         4  ...        1:28.603         215.464         1\n",
       "4         5      18         5  ...        1:27.418         218.385         1\n",
       "\n",
       "[5 rows x 18 columns]"
      ]
     },
     "execution_count": 4,
     "metadata": {},
     "output_type": "execute_result"
    }
   ],
   "source": [
    "results = pd.read_csv(\"/Users/seanchang/Documents/GitHub/qtm151spring2025/assignment7/data/results.csv\")\n",
    "results.head()"
   ]
  },
  {
   "cell_type": "markdown",
   "metadata": {},
   "source": [
    "### (a)  Check Column Types and Data Cleaning\n",
    "\n",
    "- Use the function .dtypes to get the column types\n",
    "- Identify which columns have data types that might need conversion\n",
    "- The 'milliseconds' column contains string values that should be numeric. Create a new column called 'race_time_ms' that:\n",
    "    - Converts the column to a numeric data type\n",
    "    - Replaces any non-numeric values with NaN"
   ]
  },
  {
   "cell_type": "code",
   "execution_count": 7,
   "metadata": {},
   "outputs": [
    {
     "name": "stdout",
     "output_type": "stream",
     "text": [
      "resultId             int64\n",
      "raceId               int64\n",
      "driverId             int64\n",
      "constructorId        int64\n",
      "number              object\n",
      "grid                 int64\n",
      "position            object\n",
      "positionText        object\n",
      "positionOrder        int64\n",
      "points             float64\n",
      "laps                 int64\n",
      "time                object\n",
      "milliseconds        object\n",
      "fastestLap          object\n",
      "rank                object\n",
      "fastestLapTime      object\n",
      "fastestLapSpeed     object\n",
      "statusId             int64\n",
      "race_time_ms       float64\n",
      "dtype: object\n"
     ]
    }
   ],
   "source": [
    "# Write your answer here\n",
    "print(results.dtypes)\n",
    "results['race_time_ms'] = pd.to_numeric(results['milliseconds'], errors='coerce')"
   ]
  },
  {
   "cell_type": "markdown",
   "metadata": {},
   "source": [
    "### (b) Create Categorical Variables\n",
    "\n",
    "- Create a new column called 'finish_category' that categorizes the race finish positions as follows:\n",
    "    - Positions 1-3: 'Podium'\n",
    "    - Positions 4-10: 'Points'\n",
    "    - Positions 11-20: 'Midfield'\n",
    "    - Positions >20: 'Backmarker'\n",
    "\n",
    "Hint: Use the pd.cut() function"
   ]
  },
  {
   "cell_type": "code",
   "execution_count": 9,
   "metadata": {},
   "outputs": [
    {
     "data": {
      "text/plain": [
       "0          Podium\n",
       "1          Podium\n",
       "2          Podium\n",
       "3          Points\n",
       "4          Points\n",
       "           ...   \n",
       "25835    Midfield\n",
       "25836    Midfield\n",
       "25837    Midfield\n",
       "25838    Midfield\n",
       "25839    Midfield\n",
       "Name: finish_category, Length: 25840, dtype: category\n",
       "Categories (4, object): ['Podium' < 'Points' < 'Midfield' < 'Backmarker']"
      ]
     },
     "execution_count": 9,
     "metadata": {},
     "output_type": "execute_result"
    }
   ],
   "source": [
    "# Write your answer here\n",
    "bins = [0, 3, 10, 20, float('inf')]\n",
    "labels = ['Podium', 'Points', 'Midfield', 'Backmarker']\n",
    "\n",
    "results['finish_category'] = pd.cut(results['positionOrder'], bins=bins, labels=labels)\n",
    "results['finish_category']"
   ]
  },
  {
   "cell_type": "markdown",
   "metadata": {},
   "source": [
    "### (c) Calculate Race Duration\n",
    "- For rows where 'milliseconds' is available, create a new column <br>\n",
    "'race_duration_minutes' that converts milliseconds to minutes by dividing <br>\n",
    "by (1000*60).\n",
    "- Display the average race duration by 'constructorId' for the top 5 <br>\n",
    "constructors with the shortest average race times"
   ]
  },
  {
   "cell_type": "code",
   "execution_count": 10,
   "metadata": {},
   "outputs": [
    {
     "name": "stdout",
     "output_type": "stream",
     "text": [
      "constructorId\n",
      "35    76.710777\n",
      "29    77.604125\n",
      "41    87.046767\n",
      "16    89.428828\n",
      "53    89.658852\n",
      "Name: race_duration_minutes, dtype: float64\n"
     ]
    }
   ],
   "source": [
    "# Write your answer here\n",
    "results['race_duration_minutes'] = results['race_time_ms'] / (1000 * 60)\n",
    "avg_duration_by_constructor = results.groupby('constructorId')['race_duration_minutes'].mean()\n",
    "top_5_shortest_avg = avg_duration_by_constructor.sort_values().head(5)\n",
    "print(top_5_shortest_avg)\n"
   ]
  },
  {
   "cell_type": "markdown",
   "metadata": {},
   "source": [
    "### (d) Driver Performance Analysis\n",
    "\n",
    "- Calculate the following statistics for each driver, grouped by 'driverId':\n",
    "    - Average finishing position\n",
    "    - Total points\n",
    "    - Number of races completed\n",
    "    - Best finishing position\n",
    "\n",
    "- Sort the results by total points in descending order\n",
    "- Display the top 10 drivers based on total points"
   ]
  },
  {
   "cell_type": "code",
   "execution_count": 12,
   "metadata": {},
   "outputs": [
    {
     "name": "stdout",
     "output_type": "stream",
     "text": [
      "          average_position  total_points  races_completed  best_position\n",
      "driverId                                                                \n",
      "1                 4.787097        4396.5              310              1\n",
      "20                7.093333        3098.0              300              1\n",
      "4                 8.494413        2061.0              358              1\n",
      "830               6.533742        1983.5              163              1\n",
      "8                 8.491477        1873.0              352              1\n",
      "822               7.601990        1778.0              201              1\n",
      "3                 8.252427        1594.5              206              1\n",
      "30                6.879870        1566.0              308              1\n",
      "817               9.883621        1307.0              232              1\n",
      "18                9.695793        1235.0              309              1\n"
     ]
    }
   ],
   "source": [
    "# Write your answer here\n",
    "results['positionOrder'] = pd.to_numeric(results['positionOrder'], errors='coerce')\n",
    "driver_stats = results.groupby('driverId').agg(\n",
    "    average_position=('positionOrder', 'mean'),\n",
    "    total_points=('points', 'sum'),\n",
    "    races_completed=('resultId', 'count'),\n",
    "    best_position=('positionOrder', 'min')\n",
    ")\n",
    "driver_stats_sorted = driver_stats.sort_values(by='total_points', ascending=False)\n",
    "top_10_drivers = driver_stats_sorted.head(10)\n",
    "print(top_10_drivers)"
   ]
  },
  {
   "cell_type": "markdown",
   "metadata": {},
   "source": [
    "### (e) Linear Regression\n",
    "Create a linear regression model that predicts 'points' based on 'grid' (starting position) and 'laps' completed <br>\n",
    "Use the following steps:\n",
    "\n",
    "- Clean the data to remove any non-numeric values and missing values\n",
    "- Create the regression formula using smf.ols \n",
    "- Display the summary of the regression model using model.summary()\n",
    "\n",
    "What is the predicted points for a driver starting in position 3 and completing 55 laps?\n",
    "\n",
    "Hint: Use ```.dropna()''' to remove missing values from the points, grid, and laps <br>\n",
    "variables."
   ]
  },
  {
   "cell_type": "code",
   "execution_count": 13,
   "metadata": {},
   "outputs": [
    {
     "name": "stdout",
     "output_type": "stream",
     "text": [
      "                            OLS Regression Results                            \n",
      "==============================================================================\n",
      "Dep. Variable:                 points   R-squared:                       0.215\n",
      "Model:                            OLS   Adj. R-squared:                  0.215\n",
      "Method:                 Least Squares   F-statistic:                     3530.\n",
      "Date:                Sun, 23 Mar 2025   Prob (F-statistic):               0.00\n",
      "Time:                        21:34:03   Log-Likelihood:                -70440.\n",
      "No. Observations:               25840   AIC:                         1.409e+05\n",
      "Df Residuals:                   25837   BIC:                         1.409e+05\n",
      "Df Model:                           2                                         \n",
      "Covariance Type:            nonrobust                                         \n",
      "==============================================================================\n",
      "                 coef    std err          t      P>|t|      [0.025      0.975]\n",
      "------------------------------------------------------------------------------\n",
      "Intercept      2.5841      0.054     48.267      0.000       2.479       2.689\n",
      "grid          -0.2248      0.003    -70.621      0.000      -0.231      -0.219\n",
      "laps           0.0393      0.001     50.779      0.000       0.038       0.041\n",
      "==============================================================================\n",
      "Omnibus:                    15818.159   Durbin-Watson:                   0.715\n",
      "Prob(Omnibus):                  0.000   Jarque-Bera (JB):           183648.109\n",
      "Skew:                           2.804   Prob(JB):                         0.00\n",
      "Kurtosis:                      14.795   Cond. No.                         130.\n",
      "==============================================================================\n",
      "\n",
      "Notes:\n",
      "[1] Standard Errors assume that the covariance matrix of the errors is correctly specified.\n",
      "Predicted points for grid=3 and laps=55: 4.07\n"
     ]
    }
   ],
   "source": [
    "# Write your answer here\n",
    "results['points'] = pd.to_numeric(results['points'], errors='coerce')\n",
    "results['grid'] = pd.to_numeric(results['grid'], errors='coerce')\n",
    "results['laps'] = pd.to_numeric(results['laps'], errors='coerce')\n",
    "clean_data = results[['points', 'grid', 'laps']].dropna()\n",
    "\n",
    "model = smf.ols(formula='points ~ grid + laps', data=clean_data).fit()\n",
    "print(model.summary())\n",
    "predicted_points = model.predict(pd.DataFrame({'grid': [3], 'laps': [55]}))\n",
    "print(f\"Predicted points for grid=3 and laps=55: {predicted_points.iloc[0]:.2f}\")\n"
   ]
  }
 ],
 "metadata": {
  "kernelspec": {
   "display_name": "base",
   "language": "python",
   "name": "python3"
  },
  "language_info": {
   "codemirror_mode": {
    "name": "ipython",
    "version": 3
   },
   "file_extension": ".py",
   "mimetype": "text/x-python",
   "name": "python",
   "nbconvert_exporter": "python",
   "pygments_lexer": "ipython3",
   "version": "3.12.7"
  }
 },
 "nbformat": 4,
 "nbformat_minor": 2
}
