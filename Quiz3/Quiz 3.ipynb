{
 "cells": [
  {
   "attachments": {},
   "cell_type": "markdown",
   "metadata": {},
   "source": [
    "# <span style=\"color:darkblue\"> QTM 151 - Quiz 3 </span>"
   ]
  },
  {
   "attachments": {},
   "cell_type": "markdown",
   "metadata": {},
   "source": [
    "## Try to submit as an HTML file"
   ]
  },
  {
   "attachments": {},
   "cell_type": "markdown",
   "metadata": {},
   "source": [
    "<font size=\"5\"> \n",
    "\n",
    "Print your name below"
   ]
  },
  {
   "cell_type": "code",
   "execution_count": 36,
   "metadata": {},
   "outputs": [
    {
     "name": "stdout",
     "output_type": "stream",
     "text": [
      "Sean Chang\n"
     ]
    }
   ],
   "source": [
    "# Write your answer here\n",
    "print(\"Sean Chang\")"
   ]
  },
  {
   "attachments": {},
   "cell_type": "markdown",
   "metadata": {},
   "source": [
    "<font size = \"5\" >\n",
    "This quiz is open book \n",
    "\n",
    "- You can use the lecture notes\n",
    "- You will get partial credit for attempting the questions\n",
    "- To get full credit, the code should run as intended\n",
    "- You should <span style=\"color:red\"> NOT </span> communicate with other students\n",
    "\n",
    "Print the following message: <br>\n",
    "\n",
    "\"I will abide by Emory's code of conduct\"\n"
   ]
  },
  {
   "cell_type": "code",
   "execution_count": 20,
   "metadata": {},
   "outputs": [
    {
     "name": "stdout",
     "output_type": "stream",
     "text": [
      "I will abide by Emory's code of conduct\n"
     ]
    }
   ],
   "source": [
    "# Write your answer here:\n",
    "print(\"I will abide by Emory's code of conduct\")"
   ]
  },
  {
   "attachments": {},
   "cell_type": "markdown",
   "metadata": {},
   "source": [
    "<font size = \"5\">\n",
    "\n",
    "Import the libraries \"numpy\" and \"pandas\""
   ]
  },
  {
   "cell_type": "code",
   "execution_count": 21,
   "metadata": {},
   "outputs": [],
   "source": [
    "# Write your answer here\n",
    "import numpy as np\n",
    "import pandas as pd"
   ]
  },
  {
   "cell_type": "markdown",
   "metadata": {},
   "source": [
    "\n",
    "<font size = \"5\">\n",
    "\n",
    "(a) Replace the values of a column\n",
    "\n",
    "<font size = \"3\">\n",
    "\n",
    "- Import the \"data_raw/constructors.csv\" file\n",
    "- Replace the values \"British\", \"Japanese\", and \"Irish\" with <br>\n",
    "\"UK\", \"Japan\", \"Ireland\" in the column \"nationality\"\n",
    "\n",
    "\n",
    "HINT: See the example in Lecture 12"
   ]
  },
  {
   "cell_type": "code",
   "execution_count": 25,
   "metadata": {},
   "outputs": [
    {
     "name": "stdout",
     "output_type": "stream",
     "text": [
      "   constructorId constructorRef        name nationality  \\\n",
      "0              1        mclaren     McLaren          UK   \n",
      "1              2     bmw_sauber  BMW Sauber      German   \n",
      "2              3       williams    Williams          UK   \n",
      "3              4        renault     Renault      French   \n",
      "4              5     toro_rosso  Toro Rosso     Italian   \n",
      "\n",
      "                                                 url  \n",
      "0               http://en.wikipedia.org/wiki/McLaren  \n",
      "1            http://en.wikipedia.org/wiki/BMW_Sauber  \n",
      "2  http://en.wikipedia.org/wiki/Williams_Grand_Pr...  \n",
      "3  http://en.wikipedia.org/wiki/Renault_in_Formul...  \n",
      "4   http://en.wikipedia.org/wiki/Scuderia_Toro_Rosso  \n"
     ]
    }
   ],
   "source": [
    "# Write your own code\n",
    "constructors = pd.read_csv(\"/Users/seanchang/Documents/GitHub/qtm151spring2025/Quiz3/data_raw/constructors.csv\")\n",
    "\n",
    "constructors['nationality'] = constructors['nationality'].replace({\n",
    "    \"British\": \"UK\",\n",
    "    \"Japanese\": \"Japan\",\n",
    "    \"Irish\": \"Ireland\"})\n",
    "print(constructors.head())"
   ]
  },
  {
   "attachments": {},
   "cell_type": "markdown",
   "metadata": {},
   "source": [
    "<font size = \"5\">\n",
    "\n",
    "(b) Aggregate and query\n",
    "\n",
    "<font size = \"3\">\n",
    "\n",
    "- Import the \"data_raw/sprint_results.csv\" file\n",
    "- Subset the observations for 'constructorId == 3' using ```.query()```\n",
    "- Obtain the maximum of \"laps\" by \"driverId\" <br> \n",
    " using ``` .groupby().agg() ```\n",
    "- Subset the drivers with a maximum of laps $\\ge 10$\n",
    "- Store the results of all these operations in a dataframe <br>\n",
    "```sprint_results_agg ```"
   ]
  },
  {
   "cell_type": "code",
   "execution_count": 31,
   "metadata": {},
   "outputs": [
    {
     "name": "stdout",
     "output_type": "stream",
     "text": [
      "          max_laps\n",
      "driverId          \n",
      "847             24\n",
      "848             23\n",
      "849             24\n"
     ]
    }
   ],
   "source": [
    "# Write your own code\n",
    "sprint_results = pd.read_csv(\"/Users/seanchang/Documents/GitHub/qtm151spring2025/Quiz3/data_raw/sprint_results.csv\")\n",
    "\n",
    "subset = sprint_results.query(\"constructorId == 3\")\n",
    "grouped = subset.groupby(\"driverId\").agg(max_laps = (\"laps\", \"max\"))\n",
    "sprint_results_agg = grouped.query(\"max_laps >= 10\")\n",
    "print(sprint_results_agg)"
   ]
  },
  {
   "attachments": {},
   "cell_type": "markdown",
   "metadata": {},
   "source": [
    "<font size = \"5\">\n",
    "\n",
    "(c) Recode a numeric colum\n",
    "\n",
    "<font size = \"3\">\n",
    "\n",
    "- Import the \"data_raw/races.csv\" file\n",
    "- Recode the \"year\" column into a new column \"year_brackets\" <br>\n",
    "with the following categories\n",
    "\n",
    "$\\qquad$ ``` [\"1950-1965\",\"1966-1980\",\"1980-onwards\"] ```\n",
    "\n",
    "$\\qquad$ HINT: Use the \"pd.cut()\" command."
   ]
  },
  {
   "cell_type": "code",
   "execution_count": 29,
   "metadata": {},
   "outputs": [
    {
     "name": "stdout",
     "output_type": "stream",
     "text": [
      "   year year_brackets\n",
      "0  2009  1980-onwards\n",
      "1  2009  1980-onwards\n",
      "2  2009  1980-onwards\n",
      "3  2009  1980-onwards\n",
      "4  2009  1980-onwards\n"
     ]
    }
   ],
   "source": [
    "# Write your own code\n",
    "races = pd.read_csv(\"/Users/seanchang/Documents/GitHub/qtm151spring2025/Quiz3/data_raw/races.csv\")\n",
    "\n",
    "races['year_brackets'] = pd.cut(\n",
    "    races['year'],\n",
    "    bins=[1949, 1965, 1980, float('inf')],\n",
    "    labels=[\"1950-1965\", \"1966-1980\", \"1980-onwards\"]\n",
    ")\n",
    "print(races[['year', 'year_brackets']].head())"
   ]
  },
  {
   "attachments": {},
   "cell_type": "markdown",
   "metadata": {},
   "source": [
    "<font size = \"5\">\n",
    "\n",
    "(d) Aggregate and sort\n",
    "\n",
    "<font size = \"3\">\n",
    "\n",
    "- Import the \"data_raw/sprint_results.csv\" file\n",
    "- Obtain the maximum of \"laps\" by \"driverId\" <br> \n",
    "using ``` .groupby().agg() ```\n",
    "- Sort the teams in descending order using of <br>\n",
    "the maximum of laps using ``` .sort_values() ```"
   ]
  },
  {
   "cell_type": "code",
   "execution_count": 32,
   "metadata": {},
   "outputs": [
    {
     "name": "stdout",
     "output_type": "stream",
     "text": [
      "          max_laps\n",
      "driverId          \n",
      "1               24\n",
      "4               24\n",
      "854             24\n",
      "853             24\n",
      "852             24\n",
      "849             24\n",
      "847             24\n",
      "846             24\n",
      "844             24\n",
      "842             24\n",
      "841             24\n",
      "840             24\n",
      "839             24\n",
      "832             24\n",
      "830             24\n",
      "825             24\n",
      "822             24\n",
      "817             24\n",
      "815             24\n",
      "20              24\n",
      "8               24\n",
      "855             24\n",
      "848             23\n",
      "9               18\n"
     ]
    }
   ],
   "source": [
    "# Write your own code\n",
    "sprint_results = pd.read_csv(\"/Users/seanchang/Documents/GitHub/qtm151spring2025/Quiz3/data_raw/sprint_results.csv\")\n",
    "\n",
    "grouped = sprint_results.groupby(\"driverId\").agg(max_laps = (\"laps\", \"max\"))\n",
    "sorted_results = grouped.sort_values(by = \"max_laps\", ascending=False)\n",
    "print(sorted_results)"
   ]
  },
  {
   "attachments": {},
   "cell_type": "markdown",
   "metadata": {},
   "source": [
    "<font size = \"5\">\n",
    "\n",
    "(e) Rename column\n",
    "\n",
    "<font size = \"3\">\n",
    "\n",
    "- Import the \"data_raw/sprint_results.csv\" file\n",
    "- Rename the column \"time\" to \"time_unformatted\"\n",
    "\n",
    "HINT: Create a dictionary and use ```.rename(columns = ...)``` <br>\n",
    "See Lecture 15"
   ]
  },
  {
   "cell_type": "code",
   "execution_count": null,
   "metadata": {},
   "outputs": [
    {
     "name": "stdout",
     "output_type": "stream",
     "text": [
      "   resultId  raceId  driverId  constructorId  number  grid position  \\\n",
      "0         1    1061       830              9      33     2        1   \n",
      "1         2    1061         1            131      44     1        2   \n",
      "2         3    1061       822            131      77     3        3   \n",
      "3         4    1061       844              6      16     4        4   \n",
      "4         5    1061       846              1       4     6        5   \n",
      "\n",
      "  positionText  positionOrder  points  laps time_unformatted milliseconds  \\\n",
      "0            1              1       3    17        25:38.426      1538426   \n",
      "1            2              2       2    17           +1.430      1539856   \n",
      "2            3              3       1    17           +7.502      1545928   \n",
      "3            4              4       0    17          +11.278      1549704   \n",
      "4            5              5       0    17          +24.111      1562537   \n",
      "\n",
      "  fastestLap fastestLapTime  statusId  \n",
      "0         14       1:30.013         1  \n",
      "1         17       1:29.937         1  \n",
      "2         17       1:29.958         1  \n",
      "3         16       1:30.163         1  \n",
      "4         16       1:30.566         1  \n"
     ]
    }
   ],
   "source": [
    "# Write your own code\n",
    "sprint_results = pd.read_csv(\"/Users/seanchang/Documents/GitHub/qtm151spring2025/Quiz3/data_raw/sprint_results.csv\")\n",
    "\n",
    "sprint_results = sprint_results.rename(columns = {\"time\": \"time_unformatted\"})\n",
    "print(sprint_results.head())"
   ]
  },
  {
   "attachments": {},
   "cell_type": "markdown",
   "metadata": {},
   "source": [
    "<font size = \"5\">\n",
    "\n",
    "(f) Merge dataset\n",
    "\n",
    "<font size = \"3\">\n",
    "\n",
    "- Import the \"data_raw/sprint_results.csv\" and <br>\n",
    "\"data_raw/constructors.csv\" files\n",
    "- Create a new dataset with  ```pd.merge()``` using <br>\n",
    "\"sprint_results\" as the primary dataset, and <br>\n",
    "\"constructors\" as the secondary dataset, merging on <br>\n",
    "the column \"constructorId\"\n",
    "- To get full points **ONLY** merge the \"nationality\" column <br>\n",
    "from the secondary dataset (not all the columns)\n",
    "\n",
    "HINT: Use ```[[...]]``` to extract a subset of columns <br>\n",
    "from the secondary dataset before merging, including the <br>\n",
    "\"constructorId\" column"
   ]
  },
  {
   "cell_type": "code",
   "execution_count": 35,
   "metadata": {},
   "outputs": [
    {
     "name": "stdout",
     "output_type": "stream",
     "text": [
      "   resultId  raceId  driverId  constructorId  number  grid position  \\\n",
      "0         1    1061       830              9      33     2        1   \n",
      "1         2    1061         1            131      44     1        2   \n",
      "2         3    1061       822            131      77     3        3   \n",
      "3         4    1061       844              6      16     4        4   \n",
      "4         5    1061       846              1       4     6        5   \n",
      "\n",
      "  positionText  positionOrder  points  laps time_unformatted milliseconds  \\\n",
      "0            1              1       3    17        25:38.426      1538426   \n",
      "1            2              2       2    17           +1.430      1539856   \n",
      "2            3              3       1    17           +7.502      1545928   \n",
      "3            4              4       0    17          +11.278      1549704   \n",
      "4            5              5       0    17          +24.111      1562537   \n",
      "\n",
      "  fastestLap fastestLapTime  statusId nationality  \n",
      "0         14       1:30.013         1    Austrian  \n",
      "1         17       1:29.937         1      German  \n",
      "2         17       1:29.958         1      German  \n",
      "3         16       1:30.163         1     Italian  \n",
      "4         16       1:30.566         1          UK  \n"
     ]
    }
   ],
   "source": [
    "# Write your own code\n",
    "merged_dataset = pd.merge(\n",
    "    sprint_results,\n",
    "    constructors[['constructorId', 'nationality']],\n",
    "    on='constructorId',\n",
    "    how='left'\n",
    ")\n",
    "print(merged_dataset.head())"
   ]
  }
 ],
 "metadata": {
  "kernelspec": {
   "display_name": "base",
   "language": "python",
   "name": "python3"
  },
  "language_info": {
   "codemirror_mode": {
    "name": "ipython",
    "version": 3
   },
   "file_extension": ".py",
   "mimetype": "text/x-python",
   "name": "python",
   "nbconvert_exporter": "python",
   "pygments_lexer": "ipython3",
   "version": "3.12.7"
  },
  "orig_nbformat": 4,
  "vscode": {
   "interpreter": {
    "hash": "45fc1f684f6f416f40889115beff3ddf69879b64cf4bfee48cb72a61e9d15d1a"
   }
  }
 },
 "nbformat": 4,
 "nbformat_minor": 2
}
